{
  "nbformat": 4,
  "nbformat_minor": 0,
  "metadata": {
    "colab": {
      "name": "GO_STP_4001 : TASK 4   .ipynb",
      "provenance": []
    },
    "kernelspec": {
      "name": "python3",
      "display_name": "Python 3"
    },
    "language_info": {
      "name": "python"
    }
  },
  "cells": [
    {
      "cell_type": "code",
      "metadata": {
        "colab": {
          "base_uri": "https://localhost:8080/"
        },
        "id": "G2aZBpiB-3tD",
        "outputId": "406c8c69-9012-4a1e-de7c-0d7640372598"
      },
      "source": [
        "# 1. Import the numpy package under the name np and Print the numpy version and the configuration\n",
        "\n",
        "import numpy as np\n",
        "print(np.__version__)\n",
        "print(np.show_config())"
      ],
      "execution_count": null,
      "outputs": [
        {
          "output_type": "stream",
          "text": [
            "1.19.5\n",
            "blas_mkl_info:\n",
            "  NOT AVAILABLE\n",
            "blis_info:\n",
            "  NOT AVAILABLE\n",
            "openblas_info:\n",
            "    libraries = ['openblas', 'openblas']\n",
            "    library_dirs = ['/usr/local/lib']\n",
            "    language = c\n",
            "    define_macros = [('HAVE_CBLAS', None)]\n",
            "blas_opt_info:\n",
            "    libraries = ['openblas', 'openblas']\n",
            "    library_dirs = ['/usr/local/lib']\n",
            "    language = c\n",
            "    define_macros = [('HAVE_CBLAS', None)]\n",
            "lapack_mkl_info:\n",
            "  NOT AVAILABLE\n",
            "openblas_lapack_info:\n",
            "    libraries = ['openblas', 'openblas']\n",
            "    library_dirs = ['/usr/local/lib']\n",
            "    language = c\n",
            "    define_macros = [('HAVE_CBLAS', None)]\n",
            "lapack_opt_info:\n",
            "    libraries = ['openblas', 'openblas']\n",
            "    library_dirs = ['/usr/local/lib']\n",
            "    language = c\n",
            "    define_macros = [('HAVE_CBLAS', None)]\n",
            "None\n"
          ],
          "name": "stdout"
        }
      ]
    },
    {
      "cell_type": "code",
      "metadata": {
        "colab": {
          "base_uri": "https://localhost:8080/"
        },
        "id": "ycyYGJlY_OEs",
        "outputId": "6738d330-3806-4507-9f17-5038c5957f29"
      },
      "source": [
        "# 2. Create a null vector of size 10\n",
        "\n",
        "np.zeros(10)"
      ],
      "execution_count": null,
      "outputs": [
        {
          "output_type": "execute_result",
          "data": {
            "text/plain": [
              "array([0., 0., 0., 0., 0., 0., 0., 0., 0., 0.])"
            ]
          },
          "metadata": {
            "tags": []
          },
          "execution_count": 12
        }
      ]
    },
    {
      "cell_type": "code",
      "metadata": {
        "colab": {
          "base_uri": "https://localhost:8080/"
        },
        "id": "1c43ZV2p_PP_",
        "outputId": "e811bcb1-6981-49b2-d463-3c586c1f6d27"
      },
      "source": [
        "# 3. Create Simple 1-D array and check type and check data types in array\n",
        "\n",
        "arr = np.array(10)\n",
        "print(type(arr))\n",
        "print(arr.dtype)"
      ],
      "execution_count": null,
      "outputs": [
        {
          "output_type": "stream",
          "text": [
            "<class 'numpy.ndarray'>\n",
            "int64\n"
          ],
          "name": "stdout"
        }
      ]
    },
    {
      "cell_type": "code",
      "metadata": {
        "colab": {
          "base_uri": "https://localhost:8080/"
        },
        "id": "Z2L5otmZAXXF",
        "outputId": "2cf8031c-7f91-4ddf-97f9-40b45abd40ab"
      },
      "source": [
        "# 4. How to find number of dimensions, bytes per element and bytes of memory used \n",
        "\n",
        "arr = np.arange(5)\n",
        "print(\"Dimension = \", arr.ndim)\n",
        "print(\"Bytes Per Element = \",arr.itemsize)\n",
        "print(\"Bytes of memory used = \", arr.size * arr.itemsize)"
      ],
      "execution_count": null,
      "outputs": [
        {
          "output_type": "stream",
          "text": [
            "Dimension =  1\n",
            "Bytes Per Element =  8\n",
            "Bytes of memory used =  40\n"
          ],
          "name": "stdout"
        }
      ]
    },
    {
      "cell_type": "code",
      "metadata": {
        "colab": {
          "base_uri": "https://localhost:8080/"
        },
        "id": "SK9q-9YUB-Lr",
        "outputId": "0032a864-5d45-4f50-df88-e9e33599973c"
      },
      "source": [
        "# 5. Create a null vector of size 10 but the fifth value which is 1\n",
        "\n",
        "arr = np.zeros(10)\n",
        "arr[4] = 1\n",
        "arr"
      ],
      "execution_count": null,
      "outputs": [
        {
          "output_type": "execute_result",
          "data": {
            "text/plain": [
              "array([0., 0., 0., 0., 1., 0., 0., 0., 0., 0.])"
            ]
          },
          "metadata": {
            "tags": []
          },
          "execution_count": 38
        }
      ]
    },
    {
      "cell_type": "code",
      "metadata": {
        "colab": {
          "base_uri": "https://localhost:8080/"
        },
        "id": "9RB7k08CFYBy",
        "outputId": "913bed96-57e6-45da-c5c0-9387cb8ee7c3"
      },
      "source": [
        "# 6. Create a vector with values ranging from 10 to 49\n",
        "\n",
        "arr = np.arange(10,50)\n",
        "arr"
      ],
      "execution_count": null,
      "outputs": [
        {
          "output_type": "execute_result",
          "data": {
            "text/plain": [
              "array([10, 11, 12, 13, 14, 15, 16, 17, 18, 19, 20, 21, 22, 23, 24, 25, 26,\n",
              "       27, 28, 29, 30, 31, 32, 33, 34, 35, 36, 37, 38, 39, 40, 41, 42, 43,\n",
              "       44, 45, 46, 47, 48, 49])"
            ]
          },
          "metadata": {
            "tags": []
          },
          "execution_count": 39
        }
      ]
    },
    {
      "cell_type": "code",
      "metadata": {
        "colab": {
          "base_uri": "https://localhost:8080/"
        },
        "id": "x-skPk9uFjid",
        "outputId": "f89b8b8e-bd74-439d-e6fa-d67a9429f4a1"
      },
      "source": [
        "# 7. Reverse a vector (first element becomes last)\n",
        "\n",
        "arr[::-1]"
      ],
      "execution_count": null,
      "outputs": [
        {
          "output_type": "execute_result",
          "data": {
            "text/plain": [
              "array([49, 48, 47, 46, 45, 44, 43, 42, 41, 40, 39, 38, 37, 36, 35, 34, 33,\n",
              "       32, 31, 30, 29, 28, 27, 26, 25, 24, 23, 22, 21, 20, 19, 18, 17, 16,\n",
              "       15, 14, 13, 12, 11, 10])"
            ]
          },
          "metadata": {
            "tags": []
          },
          "execution_count": 40
        }
      ]
    },
    {
      "cell_type": "code",
      "metadata": {
        "colab": {
          "base_uri": "https://localhost:8080/"
        },
        "id": "Yo1YEVuwFq6X",
        "outputId": "f1e8ec20-93f4-4fda-cc92-0d8644fcc663"
      },
      "source": [
        "# 8. Create a 3x3 matrix with values ranging from 0 to 8\n",
        "\n",
        "arr = np.arange(9).reshape(3,3)\n",
        "print(arr)"
      ],
      "execution_count": null,
      "outputs": [
        {
          "output_type": "stream",
          "text": [
            "[[0 1 2]\n",
            " [3 4 5]\n",
            " [6 7 8]]\n"
          ],
          "name": "stdout"
        }
      ]
    },
    {
      "cell_type": "code",
      "metadata": {
        "colab": {
          "base_uri": "https://localhost:8080/"
        },
        "id": "ky3UwidCF8OM",
        "outputId": "28de05cc-8ae9-433f-fdbf-2fe0b8d0181d"
      },
      "source": [
        "# 9. Find indices of non-zero elements from [1,2,0,0,4,0]\n",
        "\n",
        "arr = np.array([1,2,0,0,4,0])\n",
        "print(np.nonzero(arr))"
      ],
      "execution_count": null,
      "outputs": [
        {
          "output_type": "stream",
          "text": [
            "(array([0, 1, 4]),)\n"
          ],
          "name": "stdout"
        }
      ]
    },
    {
      "cell_type": "code",
      "metadata": {
        "colab": {
          "base_uri": "https://localhost:8080/"
        },
        "id": "5Begv1hRHAn4",
        "outputId": "f4d78196-6632-4442-edc4-12d7c00f7094"
      },
      "source": [
        "# 10. Create a 3x3 identity matrix\n",
        "\n",
        "arr = np.identity(3)\n",
        "arr"
      ],
      "execution_count": null,
      "outputs": [
        {
          "output_type": "execute_result",
          "data": {
            "text/plain": [
              "array([[1., 0., 0.],\n",
              "       [0., 1., 0.],\n",
              "       [0., 0., 1.]])"
            ]
          },
          "metadata": {
            "tags": []
          },
          "execution_count": 51
        }
      ]
    },
    {
      "cell_type": "code",
      "metadata": {
        "colab": {
          "base_uri": "https://localhost:8080/"
        },
        "id": "qQ_IPEtrHfxP",
        "outputId": "f69b85b6-95cf-4883-80d8-c63e6375d8a0"
      },
      "source": [
        "# 11. Create a 3x3x3 array with random values\n",
        "\n",
        "\n",
        "arr = np.random.random((3,3,3))\n",
        "arr"
      ],
      "execution_count": null,
      "outputs": [
        {
          "output_type": "execute_result",
          "data": {
            "text/plain": [
              "array([[[0.02874852, 0.47801666, 0.91304494],\n",
              "        [0.434791  , 0.73196746, 0.08058503],\n",
              "        [0.37648573, 0.71910523, 0.78661705]],\n",
              "\n",
              "       [[0.15502548, 0.34679292, 0.54091946],\n",
              "        [0.10602906, 0.68988702, 0.87436116],\n",
              "        [0.67426744, 0.9860502 , 0.8387419 ]],\n",
              "\n",
              "       [[0.52634852, 0.11140005, 0.53696539],\n",
              "        [0.42942491, 0.13896689, 0.02697552],\n",
              "        [0.63041831, 0.37379647, 0.89017203]]])"
            ]
          },
          "metadata": {
            "tags": []
          },
          "execution_count": 56
        }
      ]
    },
    {
      "cell_type": "code",
      "metadata": {
        "colab": {
          "base_uri": "https://localhost:8080/"
        },
        "id": "q5XAS9gFHzG4",
        "outputId": "c602d96f-bdd6-46fa-a878-5b02483546cf"
      },
      "source": [
        "# 12. Create a 10x10 array with random values and find the minimum and maximum values\n",
        "\n",
        "arr = np.random.random((10,10))\n",
        "print(arr)\n",
        "print(\"Maximum Value = \", arr.max())\n",
        "print(\"Minimum Value = \", arr.min())"
      ],
      "execution_count": null,
      "outputs": [
        {
          "output_type": "stream",
          "text": [
            "[[0.92371892 0.19185764 0.77059848 0.41821921 0.96080752 0.50639268\n",
            "  0.09698947 0.28418532 0.85812549 0.98452465]\n",
            " [0.68392196 0.91117124 0.53812201 0.2347573  0.72703059 0.59481203\n",
            "  0.61240004 0.37272982 0.42442566 0.67178642]\n",
            " [0.36831028 0.30298357 0.34378486 0.49888623 0.3213342  0.89005926\n",
            "  0.12414319 0.06700591 0.22446356 0.02286074]\n",
            " [0.42886748 0.22269204 0.91601963 0.1598972  0.94380766 0.3656345\n",
            "  0.1549122  0.34424772 0.49123416 0.35066008]\n",
            " [0.19255999 0.3822487  0.5830042  0.76860494 0.60095374 0.71814475\n",
            "  0.64413013 0.93135977 0.43298586 0.00680591]\n",
            " [0.25517982 0.1526415  0.94037549 0.42882568 0.85711885 0.64901477\n",
            "  0.31771086 0.3085457  0.2035316  0.17085299]\n",
            " [0.42768027 0.44446141 0.19725011 0.33309665 0.58101189 0.77050598\n",
            "  0.88029252 0.70638493 0.13186652 0.54758462]\n",
            " [0.78688847 0.20969343 0.92161071 0.5669922  0.60048071 0.11199048\n",
            "  0.68155104 0.23178733 0.09725051 0.12075874]\n",
            " [0.45349649 0.37043355 0.91235939 0.14884717 0.68834151 0.22574742\n",
            "  0.11773262 0.12839879 0.22522741 0.18311613]\n",
            " [0.66150521 0.5656671  0.34488837 0.10527722 0.03062568 0.45125478\n",
            "  0.4396084  0.62118023 0.80744463 0.54906748]]\n",
            "Maximum Value =  0.9845246515114271\n",
            "Minimum Value =  0.006805914191757689\n"
          ],
          "name": "stdout"
        }
      ]
    },
    {
      "cell_type": "code",
      "metadata": {
        "colab": {
          "base_uri": "https://localhost:8080/"
        },
        "id": "ThOji8P1IlZ3",
        "outputId": "9fed0eae-ae5b-4243-a785-24776729fbea"
      },
      "source": [
        "# 13. Create a random vector of size 30 and find the mean value\n",
        "\n",
        "arr = np.random.random((30))\n",
        "arr.mean()"
      ],
      "execution_count": null,
      "outputs": [
        {
          "output_type": "execute_result",
          "data": {
            "text/plain": [
              "0.5456567715740618"
            ]
          },
          "metadata": {
            "tags": []
          },
          "execution_count": 60
        }
      ]
    },
    {
      "cell_type": "code",
      "metadata": {
        "colab": {
          "base_uri": "https://localhost:8080/"
        },
        "id": "T6Q91KaIJDSf",
        "outputId": "edfd3d9c-df37-406d-948d-e25838c605a4"
      },
      "source": [
        "# 14. Create a 2d array with 1 on the border and 0 inside\n",
        "\n",
        "arr = np.ones((4,4))\n",
        "arr[1:-1,1:-1] = 0\n",
        "print(arr)"
      ],
      "execution_count": null,
      "outputs": [
        {
          "output_type": "stream",
          "text": [
            "[[1. 1. 1. 1.]\n",
            " [1. 0. 0. 1.]\n",
            " [1. 0. 0. 1.]\n",
            " [1. 1. 1. 1.]]\n"
          ],
          "name": "stdout"
        }
      ]
    },
    {
      "cell_type": "code",
      "metadata": {
        "colab": {
          "base_uri": "https://localhost:8080/"
        },
        "id": "d8aGAf2bJbJo",
        "outputId": "94d048b6-d73b-4cff-cb2b-4cef7b60fc67"
      },
      "source": [
        "# 15. How to add a border (filled with 0's) around an existing array\n",
        "\n",
        "arr = np.ones((3,3))\n",
        "arr = np.pad(arr, pad_width=1, mode='constant', constant_values=0)\n",
        "arr"
      ],
      "execution_count": null,
      "outputs": [
        {
          "output_type": "execute_result",
          "data": {
            "text/plain": [
              "array([[0., 0., 0., 0., 0.],\n",
              "       [0., 1., 1., 1., 0.],\n",
              "       [0., 1., 1., 1., 0.],\n",
              "       [0., 1., 1., 1., 0.],\n",
              "       [0., 0., 0., 0., 0.]])"
            ]
          },
          "metadata": {
            "tags": []
          },
          "execution_count": 62
        }
      ]
    },
    {
      "cell_type": "code",
      "metadata": {
        "colab": {
          "base_uri": "https://localhost:8080/"
        },
        "id": "nR1CdcnSKHl4",
        "outputId": "4d52c316-04b4-4adc-e29a-c1b1b4fb534a"
      },
      "source": [
        "# 16. How to Accessing/Changing specific elements, rows, columns, etc in Numpy array?\n",
        "\n",
        "'''Example -\n",
        "[[ 1 2 3 4 5 6 7] [ 8 9 10 11 12 13 14]]\n",
        "\n",
        "Get 13, get first row only, get 3rd column only, get [2, 4, 6], replace 13 by 20'''\n",
        "\n",
        "arr = np.array([[1,2,3,4,5,6,7],[8,9,10,11,12,13,14]])\n",
        "print(\"Get 13 = \",arr[1,5])\n",
        "print(\"Get First Row = \",arr[0])\n",
        "print(\"Get Third Column = \",arr[:,2])\n",
        "print(\"Getting [2, 4, 6] = \",[arr[0,1],arr[0,3],arr[0,5]])\n",
        "arr[1,5] = 20\n",
        "print(\"Replaced 13 by 20 = \", arr)"
      ],
      "execution_count": null,
      "outputs": [
        {
          "output_type": "stream",
          "text": [
            "Get 13 =  13\n",
            "Get First Row =  [1 2 3 4 5 6 7]\n",
            "Get Third Column =  [ 3 10]\n",
            "Getting [2, 4, 6] =  [2, 4, 6]\n",
            "Replaced 13 by 20 =  [[ 1  2  3  4  5  6  7]\n",
            " [ 8  9 10 11 12 20 14]]\n"
          ],
          "name": "stdout"
        }
      ]
    },
    {
      "cell_type": "code",
      "metadata": {
        "colab": {
          "base_uri": "https://localhost:8080/"
        },
        "id": "SWtvm-VpOHf2",
        "outputId": "421360a3-ef4b-4b16-aee9-32232f69fe95"
      },
      "source": [
        "# 17. How to Convert a 1D array to a 2D array with 2 rows\n",
        "\n",
        "arr = np.arange(9)\n",
        "print(arr)\n",
        "\n",
        "arr = np.reshape(arr,(3,3))\n",
        "print(arr)"
      ],
      "execution_count": null,
      "outputs": [
        {
          "output_type": "stream",
          "text": [
            "[0 1 2 3 4 5 6 7 8]\n",
            "[[0 1 2]\n",
            " [3 4 5]\n",
            " [6 7 8]]\n"
          ],
          "name": "stdout"
        }
      ]
    },
    {
      "cell_type": "code",
      "metadata": {
        "colab": {
          "base_uri": "https://localhost:8080/"
        },
        "id": "KZWrUNo4TXXl",
        "outputId": "19ef0996-d531-4a2e-a9de-3e440976f1f4"
      },
      "source": [
        "# 18. Create the following pattern without hardcoding. Use only numpy functions and the below input array a.\n",
        "\n",
        "'''Input:\n",
        "a = np.array([1,2,3])\n",
        "\n",
        "Desired Output:\n",
        " array([1, 1, 1, 2, 2, 2, 3, 3, 3, 1, 2, 3, 1, 2, 3, 1, 2, 3])'''\n",
        "\n",
        "arr = np.array([1,2,3])\n",
        "np.r_[np.repeat(arr, 3), np.tile(arr, 3)]\n"
      ],
      "execution_count": null,
      "outputs": [
        {
          "output_type": "execute_result",
          "data": {
            "text/plain": [
              "array([1, 1, 1, 2, 2, 2, 3, 3, 3, 1, 2, 3, 1, 2, 3, 1, 2, 3])"
            ]
          },
          "metadata": {
            "tags": []
          },
          "execution_count": 7
        }
      ]
    },
    {
      "cell_type": "code",
      "metadata": {
        "colab": {
          "base_uri": "https://localhost:8080/"
        },
        "id": "r-HM34hAUNJG",
        "outputId": "b9ba5690-4f1c-49fa-8c59-f9e48523a52b"
      },
      "source": [
        "# 19. Write a program to show how Numpy taking less memory compared to Python List?\n",
        "\n",
        "l = range(1000)\n",
        "import sys\n",
        "a = 10\n",
        "print(\"List Memory= \",sys.getsizeof(a)*len(l))\n",
        "\n",
        "n_arr = np.arange(1000)\n",
        "print(\"NumPy Memory = \",sys.getsizeof(n_arr))"
      ],
      "execution_count": null,
      "outputs": [
        {
          "output_type": "stream",
          "text": [
            "List Memory=  28000\n",
            "NumPy Memory =  8096\n"
          ],
          "name": "stdout"
        }
      ]
    },
    {
      "cell_type": "code",
      "metadata": {
        "colab": {
          "base_uri": "https://localhost:8080/"
        },
        "id": "Utmh2oRiVEf3",
        "outputId": "72ba73fd-ff79-4f24-82a4-eaede220db37"
      },
      "source": [
        "# 20. Write a program to show how Numpy taking less time compared to Python List\n",
        "\n",
        "import time\n",
        "\n",
        "s = 10000000\n",
        "l1 = range(s)\n",
        "l2 = range(s)\n",
        "start = time.time()\n",
        "r = [(x+y) for x,y in zip(l1,l2)]\n",
        "print(\"Time Taken By List = \",(time.time()-start)*1000)\n",
        "\n",
        "n1 = np.arange(s)\n",
        "n2 = np.arange(s)\n",
        "start = time.time()\n",
        "r1 = n1+n2\n",
        "print(\"Time Taken By NumPy = \",(time.time()-start)*1000)"
      ],
      "execution_count": null,
      "outputs": [
        {
          "output_type": "stream",
          "text": [
            "Time Taken By List =  1375.7529258728027\n",
            "Time Taken By NumPy =  28.92470359802246\n"
          ],
          "name": "stdout"
        }
      ]
    },
    {
      "cell_type": "code",
      "metadata": {
        "id": "eV0cCVzhVtaZ"
      },
      "source": [
        ""
      ],
      "execution_count": null,
      "outputs": []
    }
  ]
}