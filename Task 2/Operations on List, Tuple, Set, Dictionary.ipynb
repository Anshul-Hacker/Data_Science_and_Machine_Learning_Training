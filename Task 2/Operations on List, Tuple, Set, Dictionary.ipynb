{
  "nbformat": 4,
  "nbformat_minor": 0,
  "metadata": {
    "colab": {
      "name": "TASK 2 - GO_STP_4001 .ipynb",
      "provenance": []
    },
    "kernelspec": {
      "name": "python3",
      "display_name": "Python 3"
    },
    "language_info": {
      "name": "python"
    }
  },
  "cells": [
    {
      "cell_type": "code",
      "metadata": {
        "id": "otYyR6nNaZy6"
      },
      "source": [
        ""
      ],
      "execution_count": null,
      "outputs": []
    },
    {
      "cell_type": "code",
      "metadata": {
        "id": "im3E86_773dK"
      },
      "source": [
        ""
      ],
      "execution_count": null,
      "outputs": []
    },
    {
      "cell_type": "markdown",
      "metadata": {
        "id": "PzRRVhUnyPCi"
      },
      "source": [
        "1 - Yes, a list is completely mutable i.e. its components can be altered.\n"
      ]
    },
    {
      "cell_type": "markdown",
      "metadata": {
        "id": "MZ1qD_8DyxYD"
      },
      "source": [
        "2 - NO, a list may ot may not be homogeneous. It can also be used for storing   Heterogeneous components"
      ]
    },
    {
      "cell_type": "markdown",
      "metadata": {
        "id": "L6YUzTToyyn4"
      },
      "source": [
        "3 - One of the most important differences between list and tuple is that list is mutable, whereas a tuple is immutable. This means that lists can be changed, and tuples cannot be changed. So, some operations can work on lists, but not on tuples"
      ]
    },
    {
      "cell_type": "markdown",
      "metadata": {
        "id": "4ffKcBwJy--G"
      },
      "source": [
        "4 - To find the number of elements in the list use len() function."
      ]
    },
    {
      "cell_type": "markdown",
      "metadata": {
        "id": "J8ZuM3GZzd54"
      },
      "source": [
        "5 - To check whether the list is empty or not use -\n",
        "    if len(list) == 0:\n",
        "        empty\n",
        "    else:\n",
        "        not empty"
      ]
    },
    {
      "cell_type": "markdown",
      "metadata": {
        "id": "CSCQq3Vzz3i8"
      },
      "source": [
        "6 - To find the first and last element of the list : \n",
        "lst[0] and lst[-1]"
      ]
    },
    {
      "cell_type": "markdown",
      "metadata": {
        "id": "QKjX_gyW0IVa"
      },
      "source": [
        "7 - To find the largest and lowest value in the list : max(list) and min(list)"
      ]
    },
    {
      "cell_type": "markdown",
      "metadata": {
        "id": "2X77n4690QS8"
      },
      "source": [
        "8 - To access elements of the list : \n",
        "for i in list:\n",
        "    print(i)"
      ]
    },
    {
      "cell_type": "markdown",
      "metadata": {
        "id": "qiOwyuLW0afJ"
      },
      "source": [
        "9 - To remove elements in a list before a specific index use : pop(index_of_element)"
      ]
    },
    {
      "cell_type": "markdown",
      "metadata": {
        "id": "Ji3MwxVu00ew"
      },
      "source": [
        "10 - To remove elements in a list between 2 indices use slicing technique - list[a:b]"
      ]
    },
    {
      "cell_type": "markdown",
      "metadata": {
        "id": "c2YFJ0h81B5-"
      },
      "source": [
        "11 - To return every 2nd element in a list between 2 indices use slicing technique with jump numbers ; list[a,b,2]\n"
      ]
    },
    {
      "cell_type": "markdown",
      "metadata": {
        "id": "JxPDh_OB1SDb"
      },
      "source": [
        "12 - To get first element of each sublist in Python\n",
        "A) Using for loop. It is a very simple approach in which we loop through the sublists fetching the item at index 0 in them.\n",
        "B) Using zip to give access to individual elements of the sublist.\n",
        "C) Using itemgetter."
      ]
    },
    {
      "cell_type": "markdown",
      "metadata": {
        "id": "uHqs5a3E1pMd"
      },
      "source": [
        "13 - To change a list element we use, list name followed by the index position inside the square brackets ([]), and then provides the new value using the Equal (=) sign"
      ]
    },
    {
      "cell_type": "markdown",
      "metadata": {
        "id": "bIg4M99x2AN3"
      },
      "source": [
        "14 - To concatenate two lists, use :   + operator, list comprehension, itertools, extend function."
      ]
    },
    {
      "cell_type": "code",
      "metadata": {
        "colab": {
          "base_uri": "https://localhost:8080/"
        },
        "id": "x_t4xwqL2si8",
        "outputId": "2691fbc3-33b7-4a2c-edee-30895a1a75c1"
      },
      "source": [
        "# 15 - To add two lists element-wise in Python\n",
        "list1 = [1, 2, 3]\n",
        "list2 = [4, 5, 6]\n",
        "sum_list = []\n",
        "for (item1, item2) in zip(list1, list2):\n",
        "  sum_list.append(item1+item2)\n",
        "print(sum_list)"
      ],
      "execution_count": null,
      "outputs": [
        {
          "output_type": "stream",
          "text": [
            "[5, 7, 9]\n"
          ],
          "name": "stdout"
        }
      ]
    },
    {
      "cell_type": "markdown",
      "metadata": {
        "id": "3mPtHxk5zwZE"
      },
      "source": [
        "16 - Clear () function delete the all keys and values in the dictionary and leave the dictionary empty. While del <dict> delete the complete dictionary when we want to find deleted dictionary then it will give error that <dict> not defined."
      ]
    },
    {
      "cell_type": "markdown",
      "metadata": {
        "id": "QAryGdyu3Ex3"
      },
      "source": [
        "17 - The pop() function removes the last value and returns the same. The remove() function, on the other hand, is used to remove the value where we do not need the removed value to be returned."
      ]
    },
    {
      "cell_type": "markdown",
      "metadata": {
        "id": "b4lp34h63XFq"
      },
      "source": [
        "18 - A)  append() adds a single element to the end of the list while . extend() can add multiple individual elements to the end of the list. B)  append() takes a single element as argument while . extend() takes an iterable as argument"
      ]
    },
    {
      "cell_type": "markdown",
      "metadata": {
        "id": "ZJEYz8in3fC-"
      },
      "source": [
        "19 - “Indexing” means referring to an element of an iterable by its position within the iterable. “Slicing” means getting a subset of elements from an iterable based on their indices."
      ]
    },
    {
      "cell_type": "markdown",
      "metadata": {
        "id": "ct0Pkapr3ra7"
      },
      "source": [
        "20 - The primary difference between the list sort() function and the sorted() function is that the sort() function will modify the list it is called on. The sorted() function will create a new list containing a sorted version of the list it is given"
      ]
    },
    {
      "cell_type": "markdown",
      "metadata": {
        "id": "FkqLVPpn3zxe"
      },
      "source": [
        " 21 - reverse() actually reverses the elements in the container. reversed() doesn't actually reverse anything, it merely returns an object that can be used to iterate over the container's elements in reverse order."
      ]
    },
    {
      "cell_type": "markdown",
      "metadata": {
        "id": "NysGp_DY384m"
      },
      "source": [
        "22 - A shallow copy constructs a new compound object and then (to the extent possible) inserts references into it to the objects found in the original. A deep copy constructs a new compound object and then, recursively, inserts copies into it of the objects found in the original."
      ]
    },
    {
      "cell_type": "markdown",
      "metadata": {
        "id": "aHTBVviv4FZv"
      },
      "source": [
        "23 - To remove duplicate elements in the list convert the list into set OR use list comprehension with in or not in keywords."
      ]
    },
    {
      "cell_type": "markdown",
      "metadata": {
        "id": "4bCC1J9W42s-"
      },
      "source": [
        "24 - To find an index of an element in the python list use the index() method."
      ]
    },
    {
      "cell_type": "markdown",
      "metadata": {
        "id": "rbCRujHZ5GgX"
      },
      "source": [
        "25 - A) Method 1 (Simple approach) \n",
        "We keep a counter that keeps on increasing if the required element is found in the list...\n",
        "B)  Using count() function...\n",
        "C)  Using Counter() package"
      ]
    },
    {
      "cell_type": "markdown",
      "metadata": {
        "id": "0IbVaSJ25fim"
      },
      "source": [
        "26 - Get the element value which needs to be inserted...\n",
        "Get the position value...\n",
        "Check whether the position value is valid or not...\n",
        "If it is valid, Shift all the elements from the last index to position index by 1 position to the right... Insert the new element in arr[position] by using the function insert()"
      ]
    },
    {
      "cell_type": "markdown",
      "metadata": {
        "id": "_0PPNaLa6AjE"
      },
      "source": [
        "27 - To check if an item is in the list or not use - in operator."
      ]
    },
    {
      "cell_type": "markdown",
      "metadata": {
        "id": "njK5D-Cf6PiO"
      },
      "source": [
        "28 - To flatten a list in python - A) Using Nested for Loops... B) Using List comprehension...  C) Using Recursive iteration...  D) Using functools (reduce() and iconcat())... E) Using itertools (chain())...  F) Using numpy (concatenate() and flat())"
      ]
    },
    {
      "cell_type": "markdown",
      "metadata": {
        "id": "zBWnJIRr7air"
      },
      "source": [
        "29 - To convert python list to other data structures like set, tuple, dictionary use explicit Typecasting "
      ]
    },
    {
      "cell_type": "markdown",
      "metadata": {
        "id": "dokD97Fj76QQ"
      },
      "source": [
        "30 - Use map() to apply a function to all items in the list"
      ]
    },
    {
      "cell_type": "markdown",
      "metadata": {
        "id": "PWmJ7NPl8NTx"
      },
      "source": [
        "31 - Python has a built-in function called filter() that allows you to filter a list (or a tuple) in a more beautiful way. The filter() function iterates over the elements of the list and applies the fn() function to each element"
      ]
    },
    {
      "cell_type": "markdown",
      "metadata": {
        "id": "DXhVkFgZ8VsE"
      },
      "source": [
        "32 - Lists are stored in distinct chunks of memory which are linked together with pointers, which enables efficient use of memory generally and doesn't require resizing."
      ]
    },
    {
      "cell_type": "markdown",
      "metadata": {
        "id": "08pZDw818t1B"
      },
      "source": [
        ""
      ]
    }
  ]
}