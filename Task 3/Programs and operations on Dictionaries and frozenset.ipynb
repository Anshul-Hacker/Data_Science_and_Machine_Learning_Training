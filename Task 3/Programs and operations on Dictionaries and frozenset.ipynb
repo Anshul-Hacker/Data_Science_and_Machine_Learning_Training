{
  "nbformat": 4,
  "nbformat_minor": 0,
  "metadata": {
    "colab": {
      "name": "TASK 3 - GO_STP_4001.ipynb",
      "provenance": []
    },
    "kernelspec": {
      "name": "python3",
      "display_name": "Python 3"
    },
    "language_info": {
      "name": "python"
    }
  },
  "cells": [
    {
      "cell_type": "code",
      "metadata": {
        "colab": {
          "base_uri": "https://localhost:8080/"
        },
        "id": "nHAzPbGAkHG1",
        "outputId": "5aa3a7c5-7365-4d0f-c933-08ac14c55e69"
      },
      "source": [
        "# Q.1 Write a Python Program to sort (ascending and descending) a dictionary by value. \n",
        " \n",
        "import operator\n",
        "d = {}\n",
        "n = int(input(\"Enter Size : \"))\n",
        "for i in range(n):\n",
        "  data = input().split(' ')\n",
        "  d[data[0]] = int(data[1])\n",
        "print('Original dictionary : ',d)\n",
        "sorted_d = sorted(d.items(), key=operator.itemgetter(1))\n",
        "print('Dictionary in ascending order by value : ',sorted_d)\n",
        "sorted_d = dict( sorted(d.items(), key=operator.itemgetter(1),reverse=True))\n",
        "print('Dictionary in descending order by value : ',sorted_d)"
      ],
      "execution_count": null,
      "outputs": [
        {
          "output_type": "stream",
          "text": [
            "Enter Size : 5\n",
            "1 5\n",
            "2 6\n",
            "3 7\n",
            "4 8\n",
            "5 9\n",
            "Original dictionary :  {'1': 5, '2': 6, '3': 7, '4': 8, '5': 9}\n",
            "Dictionary in ascending order by value :  [('1', 5), ('2', 6), ('3', 7), ('4', 8), ('5', 9)]\n",
            "Dictionary in descending order by value :  {'5': 9, '4': 8, '3': 7, '2': 6, '1': 5}\n"
          ],
          "name": "stdout"
        }
      ]
    },
    {
      "cell_type": "code",
      "metadata": {
        "colab": {
          "base_uri": "https://localhost:8080/"
        },
        "id": "MA9mveWwndYx",
        "outputId": "502141ca-d802-49a2-d183-be1abfa9a386"
      },
      "source": [
        "# Q.2 Write a Python Program to add a key to a dictionary. \n",
        "\n",
        "'''Sample Dictionary : {0: 10, 1: 20}\n",
        "Expected Result : {0: 10, 1: 20, 2: 30}'''\n",
        "\n",
        "\n",
        "d = {}\n",
        "n = int(input(\"Enter Size : \"))\n",
        "for i in range(n):\n",
        "  data = input().split(' ')\n",
        "  d[data[0]] = int(data[1])\n",
        "\n",
        "print(d)\n",
        "\n",
        "data = input(\"Enter data to be added : \").split(' ')\n",
        "d[data[0]] = int(data[1])\n",
        "print(d)"
      ],
      "execution_count": null,
      "outputs": [
        {
          "output_type": "stream",
          "text": [
            "Enter Size : 2\n",
            "1 10\n",
            "2 20\n",
            "{'1': 10, '2': 20}\n",
            "Enter data to be added : 3 30\n",
            "{'1': 10, '2': 20, '3': 30}\n"
          ],
          "name": "stdout"
        }
      ]
    },
    {
      "cell_type": "code",
      "metadata": {
        "colab": {
          "base_uri": "https://localhost:8080/"
        },
        "id": "JGlgSkc0qaJl",
        "outputId": "9babdd55-db65-426a-9506-d063ee9e429b"
      },
      "source": [
        "# Q.3 Write a  program asks for City name and Temperature and builds a dictionary using that Later on you can input City name and it will tell you the Temperature of that City.\n",
        "\n",
        "d = {}\n",
        "n = int(input(\"Enter Size : \"))\n",
        "for i in range(n):\n",
        "  data = input().split(' ')\n",
        "  d[data[0]] = data[1]\n",
        "print(d)\n",
        "\n",
        "s = input(\"Enter City : \")\n",
        "print(\"Temperature of {} is {} \".format(s,d.get(s)))"
      ],
      "execution_count": null,
      "outputs": [
        {
          "output_type": "stream",
          "text": [
            "Enter Size : 3\n",
            "lko 32\n",
            "mmb 40\n",
            "stp 100\n",
            "{'lko': '32', 'mmb': '40', 'stp': '100'}\n",
            "Enter City : mmb\n",
            "Temperature of mmb is 40 \n"
          ],
          "name": "stdout"
        }
      ]
    },
    {
      "cell_type": "code",
      "metadata": {
        "colab": {
          "base_uri": "https://localhost:8080/"
        },
        "id": "182_HQlCru2v",
        "outputId": "e50fe66f-418d-4e1f-9986-a3b632baf6dd"
      },
      "source": [
        "# Q. 4 Write a Python program to convert list to list of dictionaries.\n",
        "\n",
        "''' Sample lists: [\"Black\", \"Red\", \"Maroon\", \"Yellow\"], [\"#000000\", \"#FF0000\", \"#800000\", \"#FFFF00\"]\n",
        "Expected Output: [{'color_name': 'Black', 'color_code': '#000000'}, {'color_name': 'Red', 'color_code': '#FF0000'}, {'color_name': 'Maroon', 'color_code': '#800000'}, {'color_name': 'Yellow', 'color_code': '#FFFF00'}]'''\n",
        "\n",
        "names = [\"Black\", \"Red\", \"Maroon\", \"Yellow\"]\n",
        "codes = [\"#000000\", \"#FF0000\", \"#800000\", \"#FFFF00\"]\n",
        "\n",
        "colors_list = [dict(color_name = x, color_code = y) for (x,y) in zip(names, codes)]\n",
        "print(colors_list)"
      ],
      "execution_count": null,
      "outputs": [
        {
          "output_type": "stream",
          "text": [
            "[{'color_name': 'Black', 'color_code': '#000000'}, {'color_name': 'Red', 'color_code': '#FF0000'}, {'color_name': 'Maroon', 'color_code': '#800000'}, {'color_name': 'Yellow', 'color_code': '#FFFF00'}]\n"
          ],
          "name": "stdout"
        }
      ]
    },
    {
      "cell_type": "code",
      "metadata": {
        "colab": {
          "base_uri": "https://localhost:8080/"
        },
        "id": "6_O8CRhwu0K0",
        "outputId": "d8523a51-7a25-481b-a331-d6cb2e7819ec"
      },
      "source": [
        "#  Q. 5 We have following information on Employees and their Salary (Salary is in lakhs),\n",
        "\n",
        "''' Employee\tSalary\n",
        "John\t14\n",
        "Smith\t13\n",
        "Alice\t32\n",
        "Daneil\t21\n",
        "Using above create a dictionary of Employees and their Salary\n",
        "Write a program that asks user for three type of inputs,\n",
        "print: if user enter print then it should print all Employees with their Salary in this format,\n",
        "John ==>14\n",
        "Smith ==>13\n",
        "Alice ==>32\n",
        " Daneil ==>21\n",
        "add: if user input adds then it should further ask for an Employee name to add. If Employee already exists in our dataset then it should print that it exists and do nothing. If it doesn't then it asks for Salary and add that new Employee/Salary in our dictionary and print it\n",
        "remove: when user inputs remove it should ask for an Employee to remove. If an Employee exists in our dictionary then remove it and print a new dictionary using format shown above in (a). Else print that Employee doesn't exist!\n",
        "query: on this again ask the user for which Employee he or she wants to query. When a user inputs that Employee it will print the Salary of that Employee. '''\n",
        "\n",
        "\n",
        "d = {}\n",
        "n = int(input(\"Enter Size : \"))\n",
        "for i in range(n):\n",
        "  data = input().split(' ')\n",
        "  d[data[0]] = int(data[1])\n",
        "\n",
        "for i in range (4):\n",
        "\n",
        "  ask = input(\"Enter Operation : \").lower()\n",
        "  if ask == 'add' :\n",
        "    data = input().split(' ')\n",
        "    if data[0] in  d:\n",
        "      print(\"Employee already exits. \")\n",
        "    else:\n",
        "      d[data[0]] = int(data[1])\n",
        "      print(d)\n",
        "\n",
        "  elif ask == 'remove' :\n",
        "    data = input().split(' ')\n",
        "    if d[data[0]] in  d:\n",
        "      d.remove(data)\n",
        "    else:\n",
        "      print(\"Employee does not exits. \")\n",
        "\n",
        "  elif ask == 'query':\n",
        "    data = input(\"Enter Employee Name : \")\n",
        "    print(\"Salary of {} is {}\".format(data, d.get(data)))\n",
        "\n",
        "  elif ask == 'print' :\n",
        "    print(d)"
      ],
      "execution_count": null,
      "outputs": [
        {
          "output_type": "stream",
          "text": [
            "Enter Size : 4\n",
            "john 14\n",
            "smith 21\n",
            "alice 32\n",
            "daniel 13\n",
            "Enter Operation : add daniel\n",
            "Enter Operation : add\n",
            "daniel\n",
            "Employee already exits. \n",
            "Enter Operation : remove\n",
            "daniel\n",
            "Employee does not exits. \n",
            "Enter Operation : query\n",
            "Enter Employee Name : daniel\n",
            "Salary of daniel is 13\n"
          ],
          "name": "stdout"
        }
      ]
    },
    {
      "cell_type": "markdown",
      "metadata": {
        "id": "frJSLOZGzXbJ"
      },
      "source": [
        "# Q.1 What is the difference between a set and a frozenset? Create any set and try to use frozenset(setname).\n",
        "\n",
        "#Answer -  Frozen set is just an immutable version of a Python set object. While elements of a set can be modified at any time, elements of the frozen set remain the same after creation. Due to this, frozen sets can be used as keys in Dictionary or as elements of another set."
      ]
    },
    {
      "cell_type": "code",
      "metadata": {
        "colab": {
          "base_uri": "https://localhost:8080/"
        },
        "id": "ORI1QFiBxtxk",
        "outputId": "d663def3-1282-43ca-d313-c155baa5e964"
      },
      "source": [
        "# Create any set and try to use frozenset(setname).\n",
        "\n",
        "vowels = ('a', 'e', 'i', 'o', 'u')\n",
        "\n",
        "fSet = frozenset(vowels)\n",
        "print('The frozen set is:', fSet)\n",
        "print('The empty frozen set is:', frozenset())\n",
        "\n",
        "# frozensets are immutable\n",
        "# fSet.add('v') --> AttributeError: 'frozenset' object has no attribute 'add'"
      ],
      "execution_count": null,
      "outputs": [
        {
          "output_type": "stream",
          "text": [
            "The frozen set is: frozenset({'i', 'e', 'o', 'a', 'u'})\n",
            "The empty frozen set is: frozenset()\n"
          ],
          "name": "stdout"
        }
      ]
    },
    {
      "cell_type": "code",
      "metadata": {
        "colab": {
          "base_uri": "https://localhost:8080/"
        },
        "id": "YVH0Vyyszyb_",
        "outputId": "35ac0e8d-6309-437e-d27f-f97178cbef95"
      },
      "source": [
        "# Q.2 Find the elements in a given set that are not in another set\n",
        "\n",
        "'''set1 = {10,20,30,40,50}\n",
        "\n",
        "    set2 = {40,50,60,70,80}\n",
        "\n",
        " Difference between set1 and set2 is {10,20,30}'''\n",
        "\n",
        "\n",
        "set1 = set(map(int,input().split()))\n",
        "set2 = set(map(int,input().split()))\n",
        "print(set1.difference(set2))"
      ],
      "execution_count": null,
      "outputs": [
        {
          "output_type": "stream",
          "text": [
            "10 20 30 40 50\n",
            "40 50 60 70 80\n",
            "{10, 20, 30}\n"
          ],
          "name": "stdout"
        }
      ]
    },
    {
      "cell_type": "code",
      "metadata": {
        "id": "XHE9Ww-k0zSC"
      },
      "source": [
        ""
      ],
      "execution_count": null,
      "outputs": []
    }
  ]
}