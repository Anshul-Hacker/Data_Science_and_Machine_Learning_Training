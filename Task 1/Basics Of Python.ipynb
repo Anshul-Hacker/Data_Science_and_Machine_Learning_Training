{
  "nbformat": 4,
  "nbformat_minor": 0,
  "metadata": {
    "colab": {
      "name": "GO_STP_4001 : TASK 1.ipynb",
      "provenance": []
    },
    "kernelspec": {
      "name": "python3",
      "display_name": "Python 3"
    },
    "language_info": {
      "name": "python"
    }
  },
  "cells": [
    {
      "cell_type": "code",
      "metadata": {
        "id": "9zOWpGYZqfUd"
      },
      "source": [
        ""
      ],
      "execution_count": null,
      "outputs": []
    },
    {
      "cell_type": "markdown",
      "metadata": {
        "id": "dxC8ann7qjQJ"
      },
      "source": [
        "TASK 1\n",
        " \n",
        "REG ID - GO_STP_4001"
      ]
    },
    {
      "cell_type": "code",
      "metadata": {
        "id": "miRyyyoiqeUx"
      },
      "source": [
        "1. We are having 3 list like this\n",
        "\n",
        "Colors = [“Yellow”,”Green”,”White”,”Black”]\n",
        "\n",
        "Fruits=[“Apple”,”Papaya”,”Mango”,”Orange”]\n",
        "\n",
        "Animals=[“Tiger”,”Lion”,”Deer”,”Zebra”]\n",
        "\n",
        "  i. Write a program that asks user to enter a Color/Fruit/Animal name and it should tell which category belongs to , like its is a fruit or color or Animal"
      ],
      "execution_count": null,
      "outputs": []
    },
    {
      "cell_type": "code",
      "metadata": {
        "colab": {
          "base_uri": "https://localhost:8080/"
        },
        "id": "7ySg1xXtqhAv",
        "outputId": "964056ac-d9b1-4054-c59c-1ed3c356f37b"
      },
      "source": [
        "colors=[\"yellow\",\"green\",\"white\",\"black\"]\n",
        "fruits=[\"apple\",\"papaya\",\"mango\",\"orange\"]\n",
        "animals=[\"tiger\",\"lion\",\"deer\",\"zebra\"]\n",
        "\n",
        "name=input(\"enter the name \")\n",
        "if name in colors:\n",
        "  print(name,\"is a color\" )\n",
        "elif name in fruits:\n",
        "  print(name,\"is a fruit\" )\n",
        "elif name in animals:\n",
        "  print(name,\"is a animal\" )\n"
      ],
      "execution_count": null,
      "outputs": [
        {
          "output_type": "stream",
          "text": [
            "enter the name zebra\n",
            "zebra is a animal\n"
          ],
          "name": "stdout"
        }
      ]
    },
    {
      "cell_type": "code",
      "metadata": {
        "id": "6UlR1NbsrxTC"
      },
      "source": [
        " ii. Write a program that asks user to enter two cities and it tells you if they both are in same country or not. For example if I enter yellow and Black, it will print \"Both are colors\" but if I enter yellow and Tiger it should print \"They don't belong to same category\"\n",
        "\n"
      ],
      "execution_count": null,
      "outputs": []
    },
    {
      "cell_type": "code",
      "metadata": {
        "colab": {
          "base_uri": "https://localhost:8080/"
        },
        "id": "NdGrmZm5t0pi",
        "outputId": "55b5ea25-5435-4a79-9ffb-02b4f2f02d85"
      },
      "source": [
        "a = input(\"Enter a name :\")\n",
        "b = input(\"Enter a name :\")\n",
        "\n",
        "if a and b in colors:\n",
        "  print(\"Both are colors\")\n",
        "elif a and b in fruits:\n",
        "  print(\"Both are fruits\")\n",
        "elif a and b in animals:\n",
        "  print(\"Both are animals\")\n",
        "else:\n",
        "  print(\"They don't belong to same category\")"
      ],
      "execution_count": null,
      "outputs": [
        {
          "output_type": "stream",
          "text": [
            "Enter a name :yellow\n",
            "Enter a name :black\n",
            "Both are colors\n"
          ],
          "name": "stdout"
        }
      ]
    },
    {
      "cell_type": "code",
      "metadata": {
        "id": "31IFHwu7un2q"
      },
      "source": [
        "\n",
        "2.  Write a python program that can tell you if your grade score good or not . Normal Score range is 40 to 60.\n",
        "\n",
        "  i. Ask user to enter his score.\n",
        "\n",
        "  ii. If it is below 40 to 60 range then print that score is low\n",
        "\n",
        "  iii. If it is above 60 then print that it is good otherwise print that it is normal\n",
        "\n",
        "\n"
      ],
      "execution_count": null,
      "outputs": []
    },
    {
      "cell_type": "code",
      "metadata": {
        "colab": {
          "base_uri": "https://localhost:8080/"
        },
        "id": "-UHKqLxqwfh_",
        "outputId": "48c5c7e8-d520-4d19-a69f-5e32f3bbf665"
      },
      "source": [
        "score = int(input(\"Enter your score :\"))\n",
        "if score < 40 :\n",
        "  print(\"Score is low\")\n",
        "elif score > 60 :\n",
        "  print(\"Score is good\")\n",
        "else :\n",
        "  print(\"Score is normal\")"
      ],
      "execution_count": null,
      "outputs": [
        {
          "output_type": "stream",
          "text": [
            "Enter your score :70\n",
            "Score is good\n"
          ],
          "name": "stdout"
        }
      ]
    },
    {
      "cell_type": "code",
      "metadata": {
        "id": "xGqnfDFEzxzK"
      },
      "source": [
        "3.  After appearing in exam 10 times you got this result,\n",
        "\n",
        "result = [\"Pass\",\"Fail\",\"Fail\",\"Pass\",\"Fail\",\"Pass\",\"Pass\",\"Fail\",\"Fail\",\"Fail\"]\n",
        "\n",
        "Using for loop figure out how many times you got Pass"
      ],
      "execution_count": null,
      "outputs": []
    },
    {
      "cell_type": "code",
      "metadata": {
        "colab": {
          "base_uri": "https://localhost:8080/"
        },
        "id": "D9CJfv8dz9E1",
        "outputId": "d59365b0-ef5b-45c9-e240-fdf382786452"
      },
      "source": [
        "c = 0 \n",
        "for x in result :\n",
        "  if x == \"Pass\" :\n",
        "    c += 1\n",
        "print(\"You passed\", c, \"times\")"
      ],
      "execution_count": null,
      "outputs": [
        {
          "output_type": "stream",
          "text": [
            "You passed 4 times\n"
          ],
          "name": "stdout"
        }
      ]
    },
    {
      "cell_type": "code",
      "metadata": {
        "id": "-woPVY6G4XGZ"
      },
      "source": [
        "4.  Write a program that prints following shape\n",
        "\n",
        "*\n",
        "\n",
        "* *\n",
        "\n",
        "* * *\n",
        "\n",
        "* * * *\n",
        "\n",
        "* * * * *\n",
        "\n",
        "* * * *\n",
        "\n",
        "* * *\n",
        "\n",
        "* *\n",
        "\n",
        "*"
      ],
      "execution_count": null,
      "outputs": []
    },
    {
      "cell_type": "code",
      "metadata": {
        "colab": {
          "base_uri": "https://localhost:8080/"
        },
        "id": "-wnZs1l-6EHz",
        "outputId": "cbb0e64e-0d53-47f3-fb26-4b5870e8a970"
      },
      "source": [
        "n=5\n",
        "for i in range(n):\n",
        "  for j in range(i):\n",
        "    print(\"*\",end=\" \")\n",
        "  print(\"\")\n",
        "for i in range(n,-1,-1):\n",
        "  for j in range(i):\n",
        "    print(\"*\",end=\" \")\n",
        "  print(\" \")"
      ],
      "execution_count": null,
      "outputs": [
        {
          "output_type": "stream",
          "text": [
            "\n",
            "* \n",
            "* * \n",
            "* * * \n",
            "* * * * \n",
            "* * * * *  \n",
            "* * * *  \n",
            "* * *  \n",
            "* *  \n",
            "*  \n",
            " \n"
          ],
          "name": "stdout"
        }
      ]
    },
    {
      "cell_type": "code",
      "metadata": {
        "id": "GbZbn_Mz7S1x"
      },
      "source": [
        "5.   Lets say you are running a 50 km race. Write a program that,\n",
        "\n",
        "Upon completing each 10 km asks you \"are you tired?\"\n",
        "If you reply \"yes\" then it should break and print \"you didn't finish the race\"\"\n",
        " If you reply \"no\" then it should continue and ask \"are you tired\" on every km\n",
        "If you finish all 50 km then it should print congratulations message"
      ],
      "execution_count": null,
      "outputs": []
    },
    {
      "cell_type": "code",
      "metadata": {
        "colab": {
          "base_uri": "https://localhost:8080/"
        },
        "id": "syX_qdI_9M9H",
        "outputId": "39b13f13-c327-40ad-81cb-4cfb3696285d"
      },
      "source": [
        "for run in range(1,51):\n",
        "  if  run%10:\n",
        "    n=input(\" are you tired? yes/no:\")\n",
        "    if n==\"yes\":\n",
        "      print(\"you didn't finish the race\")\n",
        "    break\n",
        "  elif n==\"no\":\n",
        "    countinue\n",
        "if n==0:\n",
        "    print(\"congratulation\")"
      ],
      "execution_count": null,
      "outputs": [
        {
          "output_type": "stream",
          "text": [
            " are you tired? yes/no:yes\n",
            "you didn't finish the race\n"
          ],
          "name": "stdout"
        }
      ]
    },
    {
      "cell_type": "code",
      "metadata": {
        "id": "v8aEQzF7_F9g"
      },
      "source": [
        "6.  Write a Python program to find those numbers which are divisible by 7 and multiple of 5, between 1500 and 2700 (both included)."
      ],
      "execution_count": null,
      "outputs": []
    },
    {
      "cell_type": "code",
      "metadata": {
        "colab": {
          "base_uri": "https://localhost:8080/"
        },
        "id": "ye1OwCDo_5B_",
        "outputId": "b9b38646-7010-4992-8a28-c00c345e5eed"
      },
      "source": [
        "for i in range(1500,2701):\n",
        "  if i%7==0 and i%5==0:\n",
        "    print(i)"
      ],
      "execution_count": null,
      "outputs": [
        {
          "output_type": "stream",
          "text": [
            "1505\n",
            "1540\n",
            "1575\n",
            "1610\n",
            "1645\n",
            "1680\n",
            "1715\n",
            "1750\n",
            "1785\n",
            "1820\n",
            "1855\n",
            "1890\n",
            "1925\n",
            "1960\n",
            "1995\n",
            "2030\n",
            "2065\n",
            "2100\n",
            "2135\n",
            "2170\n",
            "2205\n",
            "2240\n",
            "2275\n",
            "2310\n",
            "2345\n",
            "2380\n",
            "2415\n",
            "2450\n",
            "2485\n",
            "2520\n",
            "2555\n",
            "2590\n",
            "2625\n",
            "2660\n",
            "2695\n"
          ],
          "name": "stdout"
        }
      ]
    },
    {
      "cell_type": "code",
      "metadata": {
        "id": "XWO0kf42AU2p"
      },
      "source": [
        "7.   Print square of all numbers between 10 to 20 except even numbers\n",
        "\n"
      ],
      "execution_count": null,
      "outputs": []
    },
    {
      "cell_type": "code",
      "metadata": {
        "colab": {
          "base_uri": "https://localhost:8080/"
        },
        "id": "2C9_iCszAm-x",
        "outputId": "78dc6c92-0fd6-494d-f9e0-1a92cc327894"
      },
      "source": [
        "for n in range(10,21):\n",
        "  if n%2!=0:\n",
        "    print(n**2)"
      ],
      "execution_count": null,
      "outputs": [
        {
          "output_type": "stream",
          "text": [
            "121\n",
            "169\n",
            "225\n",
            "289\n",
            "361\n"
          ],
          "name": "stdout"
        }
      ]
    },
    {
      "cell_type": "code",
      "metadata": {
        "id": "oIigUhJ1A-vd"
      },
      "source": [
        "8.  Your Marks for five Test(test1 to test5) looks like this,\n",
        "\n",
        "marks_list = [65, 75, 2100, 95, 83]\n",
        "\n",
        "Write a program that asks you to enter marks and program should tell you in which test that marks occurred. If marks is not found then it should print that as well."
      ],
      "execution_count": null,
      "outputs": []
    },
    {
      "cell_type": "code",
      "metadata": {
        "colab": {
          "base_uri": "https://localhost:8080/"
        },
        "id": "nKiZLBuWBSpb",
        "outputId": "3d49f7f2-9fe9-48cd-e313-70815f1529e7"
      },
      "source": [
        "marks_list=[65,75,2100,95,83]\n",
        "Marks = int(input(\"Enter marks: \"))\n",
        "if Marks in marks_list:\n",
        "  print(\"Test\",marks_list.index(Marks))\n",
        "else:\n",
        "  print(\" test Not found\")"
      ],
      "execution_count": null,
      "outputs": [
        {
          "output_type": "stream",
          "text": [
            "Enter marks: 65\n",
            "Test 0\n"
          ],
          "name": "stdout"
        }
      ]
    },
    {
      "cell_type": "code",
      "metadata": {
        "id": "jpi-mKysCQbr"
      },
      "source": [
        ""
      ],
      "execution_count": null,
      "outputs": []
    }
  ]
}